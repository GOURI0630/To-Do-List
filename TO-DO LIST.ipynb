{
 "cells": [
  {
   "cell_type": "code",
   "execution_count": 2,
   "id": "2ceb43e9-8a08-4e9a-ad09-cc95739f89c6",
   "metadata": {},
   "outputs": [
    {
     "name": "stdout",
     "output_type": "stream",
     "text": [
      "\n",
      "--- TO DO LIST ---\n",
      "1. Add Task\n",
      "2. View Tasks\n",
      "3. Delete Task\n",
      "4. Exit\n"
     ]
    },
    {
     "name": "stdin",
     "output_type": "stream",
     "text": [
      "Enter your choice (1-4):  1\n",
      "Enter new task:  GO TO COLLAGE\n"
     ]
    },
    {
     "name": "stdout",
     "output_type": "stream",
     "text": [
      "Task added!\n",
      "\n",
      "--- TO DO LIST ---\n",
      "1. Add Task\n",
      "2. View Tasks\n",
      "3. Delete Task\n",
      "4. Exit\n"
     ]
    },
    {
     "name": "stdin",
     "output_type": "stream",
     "text": [
      "Enter your choice (1-4):  2\n"
     ]
    },
    {
     "name": "stdout",
     "output_type": "stream",
     "text": [
      "\n",
      "Your Tasks:\n",
      "1 - GO TO COLLAGE\n",
      "\n",
      "--- TO DO LIST ---\n",
      "1. Add Task\n",
      "2. View Tasks\n",
      "3. Delete Task\n",
      "4. Exit\n"
     ]
    },
    {
     "name": "stdin",
     "output_type": "stream",
     "text": [
      "Enter your choice (1-4):  3\n"
     ]
    },
    {
     "name": "stdout",
     "output_type": "stream",
     "text": [
      "\n",
      "Your Tasks:\n",
      "1 - GO TO COLLAGE\n"
     ]
    },
    {
     "name": "stdin",
     "output_type": "stream",
     "text": [
      "Enter task number to delete:  1\n"
     ]
    },
    {
     "name": "stdout",
     "output_type": "stream",
     "text": [
      "Task 'GO TO COLLAGE' deleted.\n",
      "\n",
      "--- TO DO LIST ---\n",
      "1. Add Task\n",
      "2. View Tasks\n",
      "3. Delete Task\n",
      "4. Exit\n"
     ]
    },
    {
     "name": "stdin",
     "output_type": "stream",
     "text": [
      "Enter your choice (1-4):  4\n"
     ]
    },
    {
     "name": "stdout",
     "output_type": "stream",
     "text": [
      "Exiting To-Do List. Bye!\n"
     ]
    }
   ],
   "source": [
    "tasks = []\n",
    "\n",
    "while True:\n",
    "    print(\"\\n--- TO DO LIST ---\")\n",
    "    print(\"1. Add Task\")\n",
    "    print(\"2. View Tasks\")\n",
    "    print(\"3. Delete Task\")\n",
    "    print(\"4. Exit\")\n",
    "\n",
    "    choice = input(\"Enter your choice (1-4): \")\n",
    "\n",
    "    if choice == '1':\n",
    "        task = input(\"Enter new task: \")\n",
    "        tasks.append(task)\n",
    "        print(\"Task added!\")\n",
    "\n",
    "    elif choice == '2':\n",
    "        if len(tasks) == 0:\n",
    "            print(\"No tasks in the list.\")\n",
    "        else:\n",
    "            print(\"\\nYour Tasks:\")\n",
    "            for i in range(len(tasks)):\n",
    "                print(i+1, \"-\", tasks[i])\n",
    "\n",
    "    elif choice == '3':\n",
    "        if len(tasks) == 0:\n",
    "            print(\"No tasks to delete.\")\n",
    "        else:\n",
    "            print(\"\\nYour Tasks:\")\n",
    "            for i in range(len(tasks)):\n",
    "                print(i+1, \"-\", tasks[i])\n",
    "            d = int(input(\"Enter task number to delete: \"))\n",
    "            if d > 0 and d <= len(tasks):\n",
    "                removed = tasks[d-1]\n",
    "                tasks.remove(removed)\n",
    "                print(f\"Task '{removed}' deleted.\")\n",
    "            else:\n",
    "                print(\"Invalid task number.\")\n",
    "\n",
    "    elif choice == '4':\n",
    "        print(\"Exiting To-Do List. Bye!\")\n",
    "        break\n",
    "\n",
    "    else:\n",
    "        print(\"Invalid choice, please enter 1-4.\")\n"
   ]
  },
  {
   "cell_type": "code",
   "execution_count": null,
   "id": "957dc771-47c7-4668-91ae-0e789ae115e2",
   "metadata": {},
   "outputs": [],
   "source": []
  },
  {
   "cell_type": "code",
   "execution_count": null,
   "id": "78d01d23-a91b-4571-bdee-27fe73e1f622",
   "metadata": {},
   "outputs": [],
   "source": []
  },
  {
   "cell_type": "code",
   "execution_count": null,
   "id": "493e3ce8-8c5c-4722-bc24-dcc954769473",
   "metadata": {},
   "outputs": [],
   "source": []
  },
  {
   "cell_type": "code",
   "execution_count": null,
   "id": "9372b26e-8c63-4276-9e6c-c865ad1851e4",
   "metadata": {},
   "outputs": [],
   "source": []
  }
 ],
 "metadata": {
  "kernelspec": {
   "display_name": "Python 3 (ipykernel)",
   "language": "python",
   "name": "python3"
  },
  "language_info": {
   "codemirror_mode": {
    "name": "ipython",
    "version": 3
   },
   "file_extension": ".py",
   "mimetype": "text/x-python",
   "name": "python",
   "nbconvert_exporter": "python",
   "pygments_lexer": "ipython3",
   "version": "3.12.7"
  }
 },
 "nbformat": 4,
 "nbformat_minor": 5
}
